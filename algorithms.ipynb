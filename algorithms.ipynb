{
 "cells": [
  {
   "attachments": {},
   "cell_type": "markdown",
   "metadata": {},
   "source": [
    "<br>"
   ]
  },
  {
   "attachments": {},
   "cell_type": "markdown",
   "metadata": {},
   "source": [
    "### Binary Search"
   ]
  },
  {
   "cell_type": "code",
   "execution_count": 1,
   "metadata": {},
   "outputs": [],
   "source": [
    "def binary_search(nums: list[int], target: int) -> int:\n",
    "    # if empty array\n",
    "    if len(nums) == 0:\n",
    "        return -1\n",
    "    # if target is out of range\n",
    "    if target < nums[0] or target > nums[-1]:\n",
    "        return -1\n",
    "    # keep track of index\n",
    "    index: int = 0\n",
    "    # while nums is not empty\n",
    "    while len(nums) > 0:\n",
    "        middle_index: int = int(len(nums)/2) if len(nums)%2 != 0 else int(len(nums)/2)-1\n",
    "        # print(nums, middle_index, index)\n",
    "        middle_value: int = nums[middle_index]\n",
    "        if target == middle_value:\n",
    "            index += middle_index\n",
    "            return index\n",
    "        elif target > middle_value:\n",
    "            index += middle_index+1\n",
    "            nums = nums[middle_index+1: ]\n",
    "        else:\n",
    "            nums = nums[:middle_index]\n",
    "    return -1"
   ]
  },
  {
   "cell_type": "code",
   "execution_count": null,
   "metadata": {},
   "outputs": [],
   "source": []
  }
 ],
 "metadata": {
  "kernelspec": {
   "display_name": "machine_learning",
   "language": "python",
   "name": "python3"
  },
  "language_info": {
   "codemirror_mode": {
    "name": "ipython",
    "version": 3
   },
   "file_extension": ".py",
   "mimetype": "text/x-python",
   "name": "python",
   "nbconvert_exporter": "python",
   "pygments_lexer": "ipython3",
   "version": "3.10.8"
  },
  "orig_nbformat": 4,
  "vscode": {
   "interpreter": {
    "hash": "7e9e12bc012fae32ac9654bb37cb31a0d4c91164effa766e52fa90ec4ccf2e77"
   }
  }
 },
 "nbformat": 4,
 "nbformat_minor": 2
}
